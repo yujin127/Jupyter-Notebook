{
 "cells": [
  {
   "cell_type": "markdown",
   "id": "0b29fcbb",
   "metadata": {},
   "source": [
    "# 노트북 사용모드 "
   ]
  },
  {
   "cell_type": "markdown",
   "id": "0d691e58",
   "metadata": {},
   "source": [
    "## 셀 실행\n",
    "* ctrl + [Enter] : 편집모드 - 명령모드 => 셀 실행 + 현재 셀에 위치 그대로\n",
    "* shift + [Enter] : 셀 실행 + 새로운 셀 추가(아래 셀이 없는 경우만 해당) or 다음 셀로 이동\n",
    "* alt + [Enter] : 셀 실행 + 새로운 셀 추가(아래 셀이 있는 경우에도)\n",
    "* Esc, ctrl + m : 편집모드 -> 명령모드\n",
    "* [Enter] : 명령모드 -> 편집모드"
   ]
  },
  {
   "cell_type": "markdown",
   "id": "44de1af7",
   "metadata": {},
   "source": [
    "### 명령 모드에서 단축키\n",
    "- shift + m : 여러 셀이 한 셀로 병합(여러 셀 선택해 놓은 뒤(shift 누르면서 선택))\n",
    "- 명령모드(blue)에서 'a' 누르면 위 셀에 추가됨\n",
    "- 명령모드(blue)에서 'b' 누르면 아래 셀에 추가됨\n",
    "- 명령모드(blue)에서 'dd' 누르면 셀 삭제\n",
    "- 명령모드(blue)에서 'x' 누르면 잘라내기"
   ]
  },
  {
   "cell_type": "markdown",
   "id": "275e6143",
   "metadata": {},
   "source": [
    "### 편집 모드에서 단축키\n",
    "- ctrl + 'z' : 실행 취소\n",
    "- ctrl + 'a' : 전체 선택\n",
    "- ctrl + 'y' : 선택된 셀 내 다시 실행\n",
    "- ctrl + '/' : 주석 부여\n",
    "- ctrl + shift + [-] : 셀 나누기(나누고자 하는 줄 끝에 커서 놓고)"
   ]
  },
  {
   "cell_type": "markdown",
   "id": "fe0b7efc",
   "metadata": {},
   "source": [
    "### 마크다운 각종 서식"
   ]
  },
  {
   "cell_type": "markdown",
   "id": "f34546bc",
   "metadata": {},
   "source": [
    "- '** **' 사이에 글 넣으면 굵은 글씨\n",
    "- '* *' 사이에 글 넣으면 Italic체\n",
    "- 줄 띄우고 싶으면 두 줄 띄우기\n",
    "- 목차는 *, -, 1 등을 만들 수 있음\n",
    "- '>>>' 키 사용하면 들여쓰기 가능"
   ]
  },
  {
   "cell_type": "markdown",
   "id": "cf6d4726",
   "metadata": {},
   "source": [
    "## code 편집 및 실행"
   ]
  },
  {
   "cell_type": "code",
   "execution_count": 7,
   "id": "19758193",
   "metadata": {},
   "outputs": [
    {
     "name": "stdout",
     "output_type": "stream",
     "text": [
      "Jupyter notebook\n",
      "3\n",
      "Lee\n"
     ]
    }
   ],
   "source": [
    "print('Jupyter notebook')\n",
    "print(1+2)\n",
    "print('Lee')\n"
   ]
  },
  {
   "cell_type": "code",
   "execution_count": 8,
   "id": "cf32dcd9",
   "metadata": {},
   "outputs": [
    {
     "name": "stdout",
     "output_type": "stream",
     "text": [
      "Help on built-in function sorted in module builtins:\n",
      "\n",
      "sorted(iterable, /, *, key=None, reverse=False)\n",
      "    Return a new list containing all items from the iterable in ascending order.\n",
      "    \n",
      "    A custom key function can be supplied to customize the sort order, and the\n",
      "    reverse flag can be set to request the result in descending order.\n",
      "\n"
     ]
    }
   ],
   "source": [
    "help(sorted)"
   ]
  },
  {
   "cell_type": "code",
   "execution_count": null,
   "id": "8fddca10",
   "metadata": {},
   "outputs": [],
   "source": []
  }
 ],
 "metadata": {
  "kernelspec": {
   "display_name": "Python 3 (ipykernel)",
   "language": "python",
   "name": "python3"
  },
  "language_info": {
   "codemirror_mode": {
    "name": "ipython",
    "version": 3
   },
   "file_extension": ".py",
   "mimetype": "text/x-python",
   "name": "python",
   "nbconvert_exporter": "python",
   "pygments_lexer": "ipython3",
   "version": "3.9.13"
  }
 },
 "nbformat": 4,
 "nbformat_minor": 5
}
